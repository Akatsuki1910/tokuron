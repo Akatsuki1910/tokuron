{
  "nbformat": 4,
  "nbformat_minor": 0,
  "metadata": {
    "colab": {
      "name": "sarsa.ipynb",
      "provenance": [],
      "collapsed_sections": [],
      "authorship_tag": "ABX9TyOFKfDf77XUUkCBo1SPx202",
      "include_colab_link": true
    },
    "kernelspec": {
      "name": "python3",
      "display_name": "Python 3"
    },
    "language_info": {
      "name": "python"
    }
  },
  "cells": [
    {
      "cell_type": "markdown",
      "metadata": {
        "id": "view-in-github",
        "colab_type": "text"
      },
      "source": [
        "<a href=\"https://colab.research.google.com/github/Akatsuki1910/tokuron/blob/main/sarsa.ipynb\" target=\"_parent\"><img src=\"https://colab.research.google.com/assets/colab-badge.svg\" alt=\"Open In Colab\"/></a>"
      ]
    },
    {
      "cell_type": "code",
      "metadata": {
        "id": "kd08Ipsmdyss"
      },
      "source": [
        "import matplotlib.pyplot as plt\n",
        "import numpy as np"
      ],
      "execution_count": null,
      "outputs": []
    },
    {
      "cell_type": "code",
      "metadata": {
        "id": "IZrnHsC1borb"
      },
      "source": [
        "\"\"\" plot \"\"\"\n",
        "\n",
        "def __nomal_num_over_game(_q_arr):\n",
        "    \"\"\" nomal num over game \"\"\"\n",
        "    n_pos = 0\n",
        "    result_flag = \"win\"\n",
        "    while n_pos < 10:\n",
        "        n_pos += np.random.randint(0, 3)+1\n",
        "        if n_pos >= 10:\n",
        "            result_flag = \"lose\"\n",
        "            break\n",
        "        n_pos += np.random.randint(0, 3)+1\n",
        "    return result_flag\n",
        "\n",
        "\n",
        "def __num_over_game(q_arr):\n",
        "    \"\"\" num over game \"\"\"\n",
        "    # path = []\n",
        "    n_pos = 0\n",
        "    result_flag = \"win\"\n",
        "    while n_pos < 10:\n",
        "        n_pos += np.argmax(q_arr[n_pos, ])+1\n",
        "        # path.append(n_pos)\n",
        "        if n_pos >= 10:\n",
        "            result_flag = \"lose\"\n",
        "            break\n",
        "        n_pos += np.random.randint(0, 3)+1\n",
        "        # path.append(n_pos)\n",
        "    # print(path)\n",
        "\n",
        "    return result_flag\n",
        "\n",
        "\n",
        "def __play_game(nog, q_arr=0):\n",
        "    \"\"\" play game \"\"\"\n",
        "    win_arr = []\n",
        "    lose_arr = []\n",
        "    for _i in range(100):\n",
        "        win_count = 0\n",
        "        lose_count = 0\n",
        "        for _j in range(100):\n",
        "            if \"win\" == nog(q_arr):\n",
        "                win_count += 1\n",
        "            else:\n",
        "                lose_count += 1\n",
        "        win_arr.append(win_count)\n",
        "        lose_arr.append(lose_count)\n",
        "    return [win_arr, lose_arr]\n",
        "\n",
        "\n",
        "def plot_func(q_arr):\n",
        "    \"\"\" plot func \"\"\"\n",
        "    nnog = __play_game(__nomal_num_over_game)\n",
        "    nog = __play_game(__num_over_game, q_arr)\n",
        "    points = (nnog[0], nnog[1], nog[0], nog[1])\n",
        "    _fig, axes = plt.subplots()\n",
        "\n",
        "    axes.set_xticklabels(\n",
        "        [\"before win\", \"before lose\", \"after win\", \"after lose\"])\n",
        "    axes.boxplot(points)\n",
        "\n",
        "    plt.title('learning results')\n",
        "    plt.ylabel('points')\n",
        "\n",
        "    plt.ylim([0, 100])\n",
        "    plt.grid()\n",
        "\n",
        "    plt.show()"
      ],
      "execution_count": null,
      "outputs": []
    },
    {
      "cell_type": "code",
      "metadata": {
        "id": "Ioazk2ry5psR"
      },
      "source": [
        "reward = np.array([[0, 1, 1, 1, 0, 0, 0, 0, 0, 0, 0],\n",
        "                   [0, 0, 1, 1, 1, 0, 0, 0, 0, 0, 0],\n",
        "                   [0, 0, 0, 1, 1, 1, 0, 0, 0, 0, 0],\n",
        "                   [0, 0, 0, 0, 1, 1, 1, 0, 0, 0, 0],\n",
        "                   [0, 0, 0, 0, 0, 1, 1, 1, 0, 0, 0],\n",
        "                   [0, 0, 0, 0, 0, 0, 1, 1, 1, 0, 0],\n",
        "                   [0, 0, 0, 0, 0, 0, 0, 1, 1, 10, 0],\n",
        "                   [0, 0, 0, 0, 0, 0, 0, 0, 1, 10, -10],\n",
        "                   [0, 0, 0, 0, 0, 0, 0, 0, 0, 10, -10],\n",
        "                   [0, 0, 0, 0, 0, 0, 0, 0, 0, 0, -10],\n",
        "                   [0, 0, 0, 0, 0, 0, 0, 0, 0, 0, -10],\n",
        "                   ])\n",
        "Q = np.array(np.zeros([11, 3]))"
      ],
      "execution_count": null,
      "outputs": []
    },
    {
      "cell_type": "code",
      "metadata": {
        "id": "Pc-JjFclhw7z"
      },
      "source": [
        "\"\"\" sarsa \"\"\"\n",
        "\n",
        "GAMMA = 0.9\n",
        "ALPHA = 0.1\n",
        "\n",
        "\n",
        "def action_select(s_s):\n",
        "    \"\"\" action select \"\"\"\n",
        "    return np.random.choice([i for i in range(1, 4) if i + s_s < 11])\n",
        "\n",
        "\n",
        "for i in range(10000):\n",
        "    S_STATE = 0\n",
        "    a_state = action_select(S_STATE)\n",
        "    while S_STATE + a_state != 10:\n",
        "        s_state_dash = S_STATE + a_state\n",
        "        r = reward[S_STATE, a_state]\n",
        "        a_state_dash = action_select(s_state_dash)\n",
        "\n",
        "        Q[S_STATE, a_state-1] = Q[S_STATE, a_state-1]+ALPHA * \\\n",
        "            (r+GAMMA * Q[s_state_dash, a_state_dash-1] - Q[S_STATE, a_state-1])\n",
        "\n",
        "        S_STATE = s_state_dash\n",
        "        a_state = a_state_dash\n",
        "\n",
        "plot_func(Q)"
      ],
      "execution_count": null,
      "outputs": []
    }
  ]
}