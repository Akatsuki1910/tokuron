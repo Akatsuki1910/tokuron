{
  "cells": [
    {
      "cell_type": "markdown",
      "metadata": {
        "colab_type": "text",
        "id": "view-in-github"
      },
      "source": [
        "<a href=\"https://colab.research.google.com/github/Akatsuki1910/tokuron/blob/main/sarsa.ipynb\" target=\"_parent\"><img src=\"https://colab.research.google.com/assets/colab-badge.svg\" alt=\"Open In Colab\"/></a>"
      ]
    },
    {
      "cell_type": "code",
      "execution_count": null,
      "metadata": {
        "id": "kd08Ipsmdyss"
      },
      "outputs": [],
      "source": [
        "import matplotlib.pyplot as plt\n",
        "import numpy as np"
      ]
    },
    {
      "cell_type": "code",
      "execution_count": null,
      "metadata": {
        "id": "IZrnHsC1borb"
      },
      "outputs": [],
      "source": [
        "\"\"\" plot \"\"\"\n",
        "\n",
        "def __nomal_num_over_game(_q_arr):\n",
        "    \"\"\" nomal num over game \"\"\"\n",
        "    n_pos = 0\n",
        "    result_flag = \"win\"\n",
        "    while n_pos < 10:\n",
        "        n_pos += np.random.randint(0, 3)+1\n",
        "        if n_pos >= 10:\n",
        "            result_flag = \"lose\"\n",
        "            break\n",
        "        n_pos += np.random.randint(0, 3)+1\n",
        "    return result_flag\n",
        "\n",
        "\n",
        "def __num_over_game(q_arr):\n",
        "    \"\"\" num over game \"\"\"\n",
        "    # path = []\n",
        "    n_pos = 0\n",
        "    result_flag = \"win\"\n",
        "    while n_pos < 10:\n",
        "        n_pos += np.argmax(q_arr[n_pos, ])+1\n",
        "        # path.append(n_pos)\n",
        "        if n_pos >= 10:\n",
        "            result_flag = \"lose\"\n",
        "            break\n",
        "        n_pos += np.random.randint(0, 3)+1\n",
        "    #     path.append(n_pos)\n",
        "    # print(path)\n",
        "\n",
        "    return result_flag\n",
        "\n",
        "\n",
        "def __play_game(nog, q_arr):\n",
        "    \"\"\" play game \"\"\"\n",
        "    win_arr = []\n",
        "    lose_arr = []\n",
        "    for _ in range(100):\n",
        "        win_count = 0\n",
        "        lose_count = 0\n",
        "        for _ in range(100):\n",
        "            if nog(q_arr) == \"win\":\n",
        "                win_count += 1\n",
        "            else:\n",
        "                lose_count += 1\n",
        "        win_arr.append(win_count)\n",
        "        lose_arr.append(lose_count)\n",
        "    return [win_arr, lose_arr]\n",
        "\n",
        "\n",
        "def plot_func(q_arr):\n",
        "    \"\"\" plot func \"\"\"\n",
        "    nnog = __play_game(__nomal_num_over_game, np.array(np.zeros([10, 3])))\n",
        "    nog = __play_game(__num_over_game, q_arr)\n",
        "    points = (nnog[0], nnog[1], nog[0], nog[1])\n",
        "    _fig, axes = plt.subplots()\n",
        "\n",
        "    axes.set_xticklabels(\n",
        "        [\"before win\", \"before lose\", \"after win\", \"after lose\"])\n",
        "    axes.boxplot(points)\n",
        "\n",
        "    plt.title('learning results')\n",
        "    plt.ylabel('points')\n",
        "\n",
        "    plt.ylim([0, 100])\n",
        "    plt.grid()\n",
        "\n",
        "    plt.show()"
      ]
    },
    {
      "cell_type": "code",
      "execution_count": null,
      "metadata": {
        "id": "Ioazk2ry5psR"
      },
      "outputs": [],
      "source": [
        "Q = np.array(np.zeros([11, 3]))"
      ]
    },
    {
      "cell_type": "code",
      "execution_count": null,
      "metadata": {
        "id": "Pc-JjFclhw7z"
      },
      "outputs": [],
      "source": [
        "\"\"\" sarsa \"\"\"\n",
        "\n",
        "GAMMA = 0.9\n",
        "ALPHA = 0.1\n",
        "\n",
        "\n",
        "def action_select(s_s, epsilon):\n",
        "    \"\"\" action select \"\"\"\n",
        "    arr = [i for i in range(1, 4) if i + s_s < 11]\n",
        "\n",
        "    if np.random.randint(0, 100) < 10:\n",
        "        epsilon = 1\n",
        "\n",
        "    return np.argmax(Q[s_s, :max(arr)])+1 if epsilon == 0 else np.random.choice(arr)\n",
        "\n",
        "\n",
        "for i in range(10000):\n",
        "    S_STATE = 0\n",
        "    a_state = action_select(S_STATE, 0)\n",
        "    while S_STATE != 10:\n",
        "        R = 0.001\n",
        "        s_state_dash = S_STATE + a_state\n",
        "        if s_state_dash == 10:\n",
        "            R = -10\n",
        "        else:\n",
        "            s_state_dash = action_select(s_state_dash, 1) + s_state_dash\n",
        "            if s_state_dash == 10:\n",
        "                R = 10\n",
        "            else:\n",
        "                a_state_dash = action_select(s_state_dash, 0)\n",
        "\n",
        "        Q[S_STATE, a_state-1] = Q[S_STATE, a_state-1]+ALPHA * \\\n",
        "            (R+GAMMA * Q[s_state_dash, a_state_dash-1] - Q[S_STATE, a_state-1])\n",
        "\n",
        "        S_STATE = s_state_dash\n",
        "        a_state = a_state_dash\n",
        "\n",
        "plot_func(Q)\n"
      ]
    }
  ],
  "metadata": {
    "colab": {
      "authorship_tag": "ABX9TyOFKfDf77XUUkCBo1SPx202",
      "collapsed_sections": [],
      "include_colab_link": true,
      "name": "sarsa.ipynb",
      "provenance": []
    },
    "kernelspec": {
      "display_name": "Python 3",
      "name": "python3"
    },
    "language_info": {
      "name": "python"
    }
  },
  "nbformat": 4,
  "nbformat_minor": 0
}
